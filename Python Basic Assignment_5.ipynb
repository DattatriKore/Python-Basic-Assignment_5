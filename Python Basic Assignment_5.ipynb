{
 "cells": [
  {
   "cell_type": "markdown",
   "id": "e562c8c3",
   "metadata": {},
   "source": [
    "Q.[1] : What does an empty dictionary's code look like?\n",
    "\n",
    "Ans:- dict = {}"
   ]
  },
  {
   "cell_type": "code",
   "execution_count": 4,
   "id": "9b2db54b",
   "metadata": {},
   "outputs": [
    {
     "data": {
      "text/plain": [
       "dict"
      ]
     },
     "execution_count": 4,
     "metadata": {},
     "output_type": "execute_result"
    }
   ],
   "source": [
    "dic = {}\n",
    "type(dic)"
   ]
  },
  {
   "cell_type": "markdown",
   "id": "662698f2",
   "metadata": {},
   "source": [
    "Q.[2]: What is the value of a dictionary value with the key 'foo' and the value 42?\n",
    "\n",
    "Ans:- {'foo': 42}"
   ]
  },
  {
   "cell_type": "code",
   "execution_count": 9,
   "id": "572d5d2b",
   "metadata": {},
   "outputs": [
    {
     "data": {
      "text/plain": [
       "{'foo': 42}"
      ]
     },
     "execution_count": 9,
     "metadata": {},
     "output_type": "execute_result"
    }
   ],
   "source": [
    "d = {'foo':42}\n",
    "d"
   ]
  },
  {
   "cell_type": "markdown",
   "id": "c4a3f612",
   "metadata": {},
   "source": [
    "Q.[3] : What is the most significant distinction between a dictionary and a list?\n",
    "\n",
    "Ans:-  \n",
    " \n",
    "     Dictionary -> items in dictionary are unordered\n",
    "           List -> items in list are Ordered\n",
    "      "
   ]
  },
  {
   "cell_type": "markdown",
   "id": "9a126a88",
   "metadata": {},
   "source": [
    "Q.[4] : What happens if you try to access spam['foo'] if spam is {'bar':100}?\n",
    "\n",
    "Ans:- We get a KeyError   "
   ]
  },
  {
   "cell_type": "code",
   "execution_count": 11,
   "id": "ff590d25",
   "metadata": {},
   "outputs": [],
   "source": [
    "spam = {'bar':100}"
   ]
  },
  {
   "cell_type": "code",
   "execution_count": 12,
   "id": "51a5d96b",
   "metadata": {},
   "outputs": [
    {
     "ename": "KeyError",
     "evalue": "'foo'",
     "output_type": "error",
     "traceback": [
      "\u001b[1;31m---------------------------------------------------------------------------\u001b[0m",
      "\u001b[1;31mKeyError\u001b[0m                                  Traceback (most recent call last)",
      "Input \u001b[1;32mIn [12]\u001b[0m, in \u001b[0;36m<cell line: 1>\u001b[1;34m()\u001b[0m\n\u001b[1;32m----> 1\u001b[0m \u001b[43mspam\u001b[49m\u001b[43m[\u001b[49m\u001b[38;5;124;43m'\u001b[39;49m\u001b[38;5;124;43mfoo\u001b[39;49m\u001b[38;5;124;43m'\u001b[39;49m\u001b[43m]\u001b[49m\n",
      "\u001b[1;31mKeyError\u001b[0m: 'foo'"
     ]
    }
   ],
   "source": [
    "spam['foo']"
   ]
  },
  {
   "cell_type": "markdown",
   "id": "8b7ed44b",
   "metadata": {},
   "source": [
    "Q.[5] : If a dictionary is stored in spam, what is the difference between the expressions 'cat'in spam and 'cat' in                 spam.keys()?\n",
    "\n",
    "Ans:-  There is no difference. The in operator checks whether a value exists as a key in the dictionary"
   ]
  },
  {
   "cell_type": "code",
   "execution_count": 13,
   "id": "270fdbcb",
   "metadata": {},
   "outputs": [
    {
     "data": {
      "text/plain": [
       "True"
      ]
     },
     "execution_count": 13,
     "metadata": {},
     "output_type": "execute_result"
    }
   ],
   "source": [
    "spam = {'cat': 20}\n",
    "'cat' in spam"
   ]
  },
  {
   "cell_type": "code",
   "execution_count": 14,
   "id": "07552ffa",
   "metadata": {},
   "outputs": [
    {
     "data": {
      "text/plain": [
       "True"
      ]
     },
     "execution_count": 14,
     "metadata": {},
     "output_type": "execute_result"
    }
   ],
   "source": [
    "'cat' in spam.keys()"
   ]
  },
  {
   "cell_type": "markdown",
   "id": "9f93c77a",
   "metadata": {},
   "source": [
    "Q.[6] : If a dictionary is stored in spam, what is the difference between the expressions 'cat' in spam and 'cat' in               spam.values()?\n",
    "    \n",
    "Ans:-  'cat' in spam checks whether there is a 'cat' key in the dictionary, while 'cat' in spam.values() checks whether             there is a value 'cat' for one of the keys in spam.    "
   ]
  },
  {
   "cell_type": "markdown",
   "id": "09b1a17c",
   "metadata": {},
   "source": [
    "Q.[7] : What is a shortcut for the following code?\n",
    "\n",
    "       if 'color' not in spam:\n",
    "       spam['color'] = 'black'\n",
    "       \n",
    "Ans:-  spam.setdefault('color', 'black')      "
   ]
  },
  {
   "cell_type": "markdown",
   "id": "b4c54e85",
   "metadata": {},
   "source": [
    "Q.[8] : How do you \"pretty print\" dictionary values using which module and function?\n",
    "\n",
    "Ans:-  pprint.pprint()"
   ]
  },
  {
   "cell_type": "code",
   "execution_count": null,
   "id": "649163f8",
   "metadata": {},
   "outputs": [],
   "source": []
  }
 ],
 "metadata": {
  "kernelspec": {
   "display_name": "Python 3 (ipykernel)",
   "language": "python",
   "name": "python3"
  },
  "language_info": {
   "codemirror_mode": {
    "name": "ipython",
    "version": 3
   },
   "file_extension": ".py",
   "mimetype": "text/x-python",
   "name": "python",
   "nbconvert_exporter": "python",
   "pygments_lexer": "ipython3",
   "version": "3.9.12"
  }
 },
 "nbformat": 4,
 "nbformat_minor": 5
}
